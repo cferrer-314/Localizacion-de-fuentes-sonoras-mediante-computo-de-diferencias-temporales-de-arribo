{
  "nbformat": 4,
  "nbformat_minor": 0,
  "metadata": {
    "colab": {
      "name": "calculo_pos.ipynb",
      "provenance": [],
      "authorship_tag": "ABX9TyM/Xs0KZQPkUWAOpDvdHUvp"
    },
    "kernelspec": {
      "name": "python3",
      "display_name": "Python 3"
    },
    "language_info": {
      "name": "python"
    }
  },
  "cells": [
    {
      "cell_type": "markdown",
      "metadata": {
        "id": "RxQCTTexw5su"
      },
      "source": [
        "El siguiente código permite utilizar una red neuronal previamente entrenada para predecir posiciones."
      ]
    },
    {
      "cell_type": "code",
      "metadata": {
        "id": "_M0e1PIKw89E"
      },
      "source": [
        "import numpy as np\n",
        "from keras import models\n",
        "from keras import layers\n",
        "from mpl_toolkits.mplot3d import Axes3D\n",
        "import matplotlib.pyplot as plt\n",
        "import tensorflow as tf\n",
        "import math\n",
        "import random\n",
        "from tensorflow.keras.models import load_model\n",
        "tf.compat.v1.enable_eager_execution()\n",
        "import seaborn as sns\n",
        "sns.set_theme()\n",
        "\n",
        "from google.colab import drive\n",
        "drive.mount('/content/drive')"
      ],
      "execution_count": null,
      "outputs": []
    },
    {
      "cell_type": "code",
      "metadata": {
        "colab": {
          "base_uri": "https://localhost:8080/"
        },
        "id": "DtM13TPHzCWw",
        "outputId": "f318faab-0d39-464b-c0c6-ab8d34ba0bc5"
      },
      "source": [
        "model = load_model('/content/drive/MyDrive/LABO 6 y 7/Experimentos_60m/red_20_04_1200ep_random_decimalextra_r.h5') #Acá se carga el modelo entrenado.\n",
        "data=np.loadtxt('/content/drive/MyDrive/RedGabo_Felipe & Constanza/Data1.txt') #acá se cargan los delays temporales\n",
        "\n",
        "xyz= model.predict(data)\n",
        "\n",
        "print(xyz)"
      ],
      "execution_count": null,
      "outputs": [
        {
          "output_type": "stream",
          "text": [
            "[[-18.009375   -18.239756     0.46733284]\n",
            " [-17.943193   -17.515137     0.46906212]\n",
            " [-17.789541   -16.676096     0.47186822]\n",
            " ...\n",
            " [ -0.0468604   -0.19284451   0.49649313]\n",
            " [ -0.0468604   -0.19284451   0.49649313]\n",
            " [ -0.0468604   -0.19284451   0.49649313]]\n"
          ],
          "name": "stdout"
        }
      ]
    },
    {
      "cell_type": "code",
      "metadata": {
        "id": "5sCr8QRqz1LQ"
      },
      "source": [
        ""
      ],
      "execution_count": null,
      "outputs": []
    }
  ]
}